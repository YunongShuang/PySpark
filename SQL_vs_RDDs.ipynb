{
  "cells": [
    {
      "cell_type": "markdown",
      "metadata": {
        "id": "AbYZoVVWOZA5"
      },
      "source": [
        "Setup Spark on Colab environment.  Run the two cells below!"
      ]
    },
    {
      "cell_type": "code",
      "execution_count": null,
      "metadata": {
        "id": "19kfSlC0aRLL"
      },
      "outputs": [],
      "source": [
        "!apt-get install openjdk-8-jdk-headless -qq > /dev/null\n",
        "!wget -q https://archive.apache.org/dist/spark/spark-3.3.2/spark-3.3.2-bin-hadoop2.tgz\n",
        "!tar xf spark-3.3.2-bin-hadoop2.tgz"
      ]
    },
    {
      "cell_type": "code",
      "execution_count": null,
      "metadata": {
        "id": "hZZlaqdGafg_"
      },
      "outputs": [],
      "source": [
        "!pip install -q findspark\n",
        "\n",
        "import os\n",
        "os.environ[\"JAVA_HOME\"] = \"/usr/lib/jvm/java-8-openjdk-amd64\"\n",
        "os.environ[\"SPARK_HOME\"] = \"/content/spark-3.3.2-bin-hadoop2\"\n",
        "\n",
        "import findspark\n",
        "findspark.init(\"spark-3.3.2-bin-hadoop2\")# SPARK_HOME\n",
        "\n",
        "import pyspark\n",
        "from pyspark.sql import *\n",
        "from pyspark.sql.functions import *\n",
        "from pyspark import SparkContext, SparkConf\n",
        "\n",
        "sc = SparkContext.getOrCreate()\n",
        "spark = SparkSession.builder.getOrCreate()"
      ]
    },
    {
      "cell_type": "code",
      "execution_count": null,
      "metadata": {
        "colab": {
          "base_uri": "https://localhost:8080/"
        },
        "id": "XLyVPuLXSagK",
        "outputId": "20ea6a92-889e-4913-ce7f-3b5b7f3bff7e"
      },
      "outputs": [
        {
          "name": "stdout",
          "output_type": "stream",
          "text": [
            "--2023-04-09 05:20:09--  http://files.grouplens.org/datasets/movielens/ml-latest-small.zip\n",
            "Resolving files.grouplens.org (files.grouplens.org)... 128.101.65.152\n",
            "Connecting to files.grouplens.org (files.grouplens.org)|128.101.65.152|:80... connected.\n",
            "HTTP request sent, awaiting response... 200 OK\n",
            "Length: 978202 (955K) [application/zip]\n",
            "Saving to: ‘ml-latest-small.zip’\n",
            "\n",
            "ml-latest-small.zip 100%[===================>] 955.28K  4.53MB/s    in 0.2s    \n",
            "\n",
            "2023-04-09 05:20:09 (4.53 MB/s) - ‘ml-latest-small.zip’ saved [978202/978202]\n",
            "\n",
            "Archive:  ml-latest-small.zip\n",
            "   creating: ml-latest-small/\n",
            "  inflating: ml-latest-small/links.csv  \n",
            "  inflating: ml-latest-small/tags.csv  \n",
            "  inflating: ml-latest-small/ratings.csv  \n",
            "  inflating: ml-latest-small/README.txt  \n",
            "  inflating: ml-latest-small/movies.csv  \n"
          ]
        }
      ],
      "source": [
        "!wget http://files.grouplens.org/datasets/movielens/ml-latest-small.zip\n",
        "!unzip ml-latest-small.zip"
      ]
    },
    {
      "cell_type": "code",
      "execution_count": null,
      "metadata": {
        "id": "vKwTTpFEg8qR"
      },
      "outputs": [],
      "source": [
        "ratings = spark.read.csv(\"ml-latest-small/ratings.csv\", header=True)\n",
        "movies = spark.read.csv(\"ml-latest-small/movies.csv\", header=True)"
      ]
    },
    {
      "cell_type": "markdown",
      "metadata": {
        "id": "MP2JmCeoSagM"
      },
      "source": [
        "Check the schema:"
      ]
    },
    {
      "cell_type": "code",
      "execution_count": null,
      "metadata": {
        "colab": {
          "base_uri": "https://localhost:8080/"
        },
        "id": "KpUT8viNSagM",
        "outputId": "e768540b-e4bc-4483-a26d-d20f204cedfc"
      },
      "outputs": [
        {
          "name": "stdout",
          "output_type": "stream",
          "text": [
            "root\n",
            " |-- userId: string (nullable = true)\n",
            " |-- movieId: string (nullable = true)\n",
            " |-- rating: string (nullable = true)\n",
            " |-- timestamp: string (nullable = true)\n",
            "\n",
            "root\n",
            " |-- movieId: string (nullable = true)\n",
            " |-- title: string (nullable = true)\n",
            " |-- genres: string (nullable = true)\n",
            "\n"
          ]
        }
      ],
      "source": [
        "ratings.printSchema()\n",
        "movies.printSchema()"
      ]
    },
    {
      "cell_type": "markdown",
      "metadata": {
        "id": "1jP5IBezSagQ"
      },
      "source": [
        "Get a sample with `take()`:"
      ]
    },
    {
      "cell_type": "code",
      "execution_count": null,
      "metadata": {
        "colab": {
          "base_uri": "https://localhost:8080/"
        },
        "id": "jrJpiG5ISagQ",
        "outputId": "be2a712c-344c-4e4c-a58d-1d25b8ac445c"
      },
      "outputs": [
        {
          "data": {
            "text/plain": [
              "[Row(userId='1', movieId='1', rating='4.0', timestamp='964982703'),\n",
              " Row(userId='1', movieId='3', rating='4.0', timestamp='964981247'),\n",
              " Row(userId='1', movieId='6', rating='4.0', timestamp='964982224')]"
            ]
          },
          "execution_count": 6,
          "metadata": {},
          "output_type": "execute_result"
        }
      ],
      "source": [
        "ratings.take(3)"
      ]
    },
    {
      "cell_type": "markdown",
      "metadata": {
        "id": "iu7n8KKjSagS"
      },
      "source": [
        "Get a formatted sample with `show()`:"
      ]
    },
    {
      "cell_type": "code",
      "execution_count": null,
      "metadata": {
        "colab": {
          "base_uri": "https://localhost:8080/"
        },
        "id": "nwYZrwanSagT",
        "outputId": "b5b8dc99-90da-4ad8-a603-e4b4c866c154"
      },
      "outputs": [
        {
          "name": "stdout",
          "output_type": "stream",
          "text": [
            "+------+-------+------+---------+\n",
            "|userId|movieId|rating|timestamp|\n",
            "+------+-------+------+---------+\n",
            "|     1|      1|   4.0|964982703|\n",
            "|     1|      3|   4.0|964981247|\n",
            "|     1|      6|   4.0|964982224|\n",
            "|     1|     47|   5.0|964983815|\n",
            "|     1|     50|   5.0|964982931|\n",
            "|     1|     70|   3.0|964982400|\n",
            "|     1|    101|   5.0|964980868|\n",
            "|     1|    110|   4.0|964982176|\n",
            "|     1|    151|   5.0|964984041|\n",
            "|     1|    157|   5.0|964984100|\n",
            "|     1|    163|   5.0|964983650|\n",
            "|     1|    216|   5.0|964981208|\n",
            "|     1|    223|   3.0|964980985|\n",
            "|     1|    231|   5.0|964981179|\n",
            "|     1|    235|   4.0|964980908|\n",
            "|     1|    260|   5.0|964981680|\n",
            "|     1|    296|   3.0|964982967|\n",
            "|     1|    316|   3.0|964982310|\n",
            "|     1|    333|   5.0|964981179|\n",
            "|     1|    349|   4.0|964982563|\n",
            "+------+-------+------+---------+\n",
            "only showing top 20 rows\n",
            "\n"
          ]
        }
      ],
      "source": [
        "ratings.show()"
      ]
    },
    {
      "cell_type": "code",
      "execution_count": null,
      "metadata": {
        "colab": {
          "base_uri": "https://localhost:8080/"
        },
        "id": "Zj8muhOD2Z81",
        "outputId": "12ea8537-b21a-489f-abd5-9ef012ea31b4"
      },
      "outputs": [
        {
          "name": "stdout",
          "output_type": "stream",
          "text": [
            "+-------+--------------------+--------------------+\n",
            "|movieId|               title|              genres|\n",
            "+-------+--------------------+--------------------+\n",
            "|      1|    Toy Story (1995)|Adventure|Animati...|\n",
            "|      2|      Jumanji (1995)|Adventure|Childre...|\n",
            "|      3|Grumpier Old Men ...|      Comedy|Romance|\n",
            "|      4|Waiting to Exhale...|Comedy|Drama|Romance|\n",
            "|      5|Father of the Bri...|              Comedy|\n",
            "|      6|         Heat (1995)|Action|Crime|Thri...|\n",
            "|      7|      Sabrina (1995)|      Comedy|Romance|\n",
            "|      8| Tom and Huck (1995)|  Adventure|Children|\n",
            "|      9| Sudden Death (1995)|              Action|\n",
            "|     10|    GoldenEye (1995)|Action|Adventure|...|\n",
            "|     11|American Presiden...|Comedy|Drama|Romance|\n",
            "|     12|Dracula: Dead and...|       Comedy|Horror|\n",
            "|     13|        Balto (1995)|Adventure|Animati...|\n",
            "|     14|        Nixon (1995)|               Drama|\n",
            "|     15|Cutthroat Island ...|Action|Adventure|...|\n",
            "|     16|       Casino (1995)|         Crime|Drama|\n",
            "|     17|Sense and Sensibi...|       Drama|Romance|\n",
            "|     18|   Four Rooms (1995)|              Comedy|\n",
            "|     19|Ace Ventura: When...|              Comedy|\n",
            "|     20|  Money Train (1995)|Action|Comedy|Cri...|\n",
            "+-------+--------------------+--------------------+\n",
            "only showing top 20 rows\n",
            "\n"
          ]
        }
      ],
      "source": [
        "movies.show()"
      ]
    },
    {
      "cell_type": "code",
      "execution_count": null,
      "metadata": {
        "colab": {
          "base_uri": "https://localhost:8080/"
        },
        "id": "hMAab2rJSagU",
        "outputId": "adbcd282-1e91-4b92-8189-14a973eee620"
      },
      "outputs": [
        {
          "name": "stdout",
          "output_type": "stream",
          "text": [
            "In total there are 9742 movies\n"
          ]
        }
      ],
      "source": [
        "print(\"In total there are {0} movies\".format(movies.count()))"
      ]
    },
    {
      "cell_type": "code",
      "execution_count": null,
      "metadata": {
        "colab": {
          "base_uri": "https://localhost:8080/"
        },
        "id": "Mwv3q2vU5xAu",
        "outputId": "b7f2636f-1ab4-4f58-9d45-133df11e2bcf"
      },
      "outputs": [
        {
          "name": "stdout",
          "output_type": "stream",
          "text": [
            "+-------+-----+\n",
            "|movieid|count|\n",
            "+-------+-----+\n",
            "|    356|  329|\n",
            "|    318|  317|\n",
            "|    296|  307|\n",
            "|    593|  279|\n",
            "|   2571|  278|\n",
            "|    260|  251|\n",
            "|    480|  238|\n",
            "|    110|  237|\n",
            "|    589|  224|\n",
            "|    527|  220|\n",
            "|   2959|  218|\n",
            "|      1|  215|\n",
            "|   1196|  211|\n",
            "|     50|  204|\n",
            "|   2858|  204|\n",
            "|     47|  203|\n",
            "|    780|  202|\n",
            "|    150|  201|\n",
            "|   1198|  200|\n",
            "|   4993|  198|\n",
            "+-------+-----+\n",
            "only showing top 20 rows\n",
            "\n"
          ]
        }
      ],
      "source": [
        "# How many ratings are there for each movie id?\n",
        "# Sort descending by the count of ratings.\n",
        "# Do not use SQL for this cell.\n",
        "movie_counts = ratings.groupBy('movieid').count().orderBy('count', ascending=False).show()"
      ]
    },
    {
      "cell_type": "markdown",
      "metadata": {
        "id": "oziFrQ8qXuer"
      },
      "source": [
        "Expected result:\n",
        "\n",
        "<pre>\n",
        "+-------+---+\n",
        "|movieid|cnt|\n",
        "+-------+---+\n",
        "|    356|329|\n",
        "|    318|317|\n",
        "|    296|307|\n",
        "|    593|279|\n",
        "|   2571|278|\n",
        "|    260|251|\n",
        "|    480|238|\n",
        "|    110|237|\n",
        "|    589|224|\n",
        "|    527|220|\n",
        "|   2959|218|\n",
        "|      1|215|\n",
        "|   1196|211|\n",
        "|   2858|204|\n",
        "|     50|204|\n",
        "|     47|203|\n",
        "|    780|202|\n",
        "|    150|201|\n",
        "|   1198|200|\n",
        "|   4993|198|\n",
        "+-------+---+\n",
        "only showing top 20 rows\n",
        "</pre>"
      ]
    },
    {
      "cell_type": "code",
      "execution_count": null,
      "metadata": {
        "colab": {
          "base_uri": "https://localhost:8080/"
        },
        "id": "I4pu0rqijOX7",
        "outputId": "680a612e-5f20-432d-ce7e-f3fd4e594721"
      },
      "outputs": [
        {
          "name": "stderr",
          "output_type": "stream",
          "text": [
            "/content/spark-3.3.2-bin-hadoop2/python/pyspark/sql/dataframe.py:229: FutureWarning: Deprecated in 2.0, use createOrReplaceTempView instead.\n",
            "  warnings.warn(\"Deprecated in 2.0, use createOrReplaceTempView instead.\", FutureWarning)\n"
          ]
        }
      ],
      "source": [
        "# Register the ratings and movies dataframes as tables\n",
        "# so that we can execute sql queries on them.\n",
        "ratings.registerTempTable(\"ratings_table\")\n",
        "movies.registerTempTable(\"movies_table\")"
      ]
    },
    {
      "cell_type": "code",
      "execution_count": null,
      "metadata": {
        "colab": {
          "base_uri": "https://localhost:8080/"
        },
        "id": "ED7Eqnl9jYrm",
        "outputId": "8f21b54a-6c40-4b34-e0cf-f193f3a0bc4e"
      },
      "outputs": [
        {
          "name": "stdout",
          "output_type": "stream",
          "text": [
            "+-------+-----+\n",
            "|movieid|count|\n",
            "+-------+-----+\n",
            "|    356|  329|\n",
            "|    318|  317|\n",
            "|    296|  307|\n",
            "|    593|  279|\n",
            "|   2571|  278|\n",
            "|    260|  251|\n",
            "|    480|  238|\n",
            "|    110|  237|\n",
            "|    589|  224|\n",
            "|    527|  220|\n",
            "|   2959|  218|\n",
            "|      1|  215|\n",
            "|   1196|  211|\n",
            "|     50|  204|\n",
            "|   2858|  204|\n",
            "|     47|  203|\n",
            "|    780|  202|\n",
            "|    150|  201|\n",
            "|   1198|  200|\n",
            "|   4993|  198|\n",
            "+-------+-----+\n",
            "only showing top 20 rows\n",
            "\n"
          ]
        }
      ],
      "source": [
        "# Use SQL\n",
        "# How many ratings are there for each movie id?\n",
        "# Sort descending by the count of ratings.\n",
        "table = spark.sql(\"select movieid, count(movieId) as count from ratings_table group by movieId order by count DESC\")\n",
        "table.show()"
      ]
    },
    {
      "cell_type": "markdown",
      "metadata": {
        "id": "nzocoO_vYg-q"
      },
      "source": [
        "Expected result: same as before."
      ]
    },
    {
      "cell_type": "code",
      "execution_count": null,
      "metadata": {
        "colab": {
          "base_uri": "https://localhost:8080/"
        },
        "id": "OabI8qdGkmad",
        "outputId": "bfc84c52-26e9-4a75-ed11-9a2d6787c634"
      },
      "outputs": [
        {
          "name": "stdout",
          "output_type": "stream",
          "text": [
            "+-------+--------------------+------------------+\n",
            "|movieId|               title|         avgrating|\n",
            "+-------+--------------------+------------------+\n",
            "|    318|Shawshank Redempt...| 4.429022082018927|\n",
            "|    858|Godfather, The (1...|         4.2890625|\n",
            "|   2959|   Fight Club (1999)| 4.272935779816514|\n",
            "|   1276|Cool Hand Luke (1...| 4.271929824561403|\n",
            "|    750|Dr. Strangelove o...| 4.268041237113402|\n",
            "|    904|  Rear Window (1954)| 4.261904761904762|\n",
            "|   1221|Godfather: Part I...|  4.25968992248062|\n",
            "|  48516|Departed, The (2006)| 4.252336448598131|\n",
            "|   1213|   Goodfellas (1990)|              4.25|\n",
            "|    912|   Casablanca (1942)|              4.24|\n",
            "|  58559|Dark Knight, The ...| 4.238255033557047|\n",
            "|     50|Usual Suspects, T...| 4.237745098039215|\n",
            "|   1197|Princess Bride, T...| 4.232394366197183|\n",
            "|    260|Star Wars: Episod...| 4.231075697211155|\n",
            "|    527|Schindler's List ...|             4.225|\n",
            "|   1208|Apocalypse Now (1...| 4.219626168224299|\n",
            "|   2329|American History ...| 4.217054263565892|\n",
            "|   1196|Star Wars: Episod...|4.2156398104265405|\n",
            "|   1252|    Chinatown (1974)| 4.211864406779661|\n",
            "|   1198|Raiders of the Lo...|            4.2075|\n",
            "+-------+--------------------+------------------+\n",
            "only showing top 20 rows\n",
            "\n"
          ]
        }
      ],
      "source": [
        "# Use SQL\n",
        "# Find the average rating for each movie that has more than 50 ratings.\n",
        "# Sort descending by average rating.\n",
        "\n",
        "table1 = spark.sql(\"select r.movieId, title, avg(rating) as avgrating\" +\n",
        "\" from ratings_table r join movies_table m on r.movieId == m.movieId group by r.movieId, title\" +\n",
        " \" having count(rating)>=50 order by avgrating DESC\")\n",
        "\n",
        "table1.show()"
      ]
    },
    {
      "cell_type": "markdown",
      "metadata": {
        "id": "waI-3bb5Y6U_"
      },
      "source": [
        "Expected result:\n",
        "\n",
        "<pre>\n",
        "+-------+--------------------+------------------+\n",
        "|movieId|               title|         avgrating|\n",
        "+-------+--------------------+------------------+\n",
        "|    318|Shawshank Redempt...| 4.429022082018927|\n",
        "|    858|Godfather, The (1...|         4.2890625|\n",
        "|   2959|   Fight Club (1999)| 4.272935779816514|\n",
        "|   1276|Cool Hand Luke (1...| 4.271929824561403|\n",
        "|    750|Dr. Strangelove o...| 4.268041237113402|\n",
        "|    904|  Rear Window (1954)| 4.261904761904762|\n",
        "|   1221|Godfather: Part I...|  4.25968992248062|\n",
        "|  48516|Departed, The (2006)| 4.252336448598131|\n",
        "|   1213|   Goodfellas (1990)|              4.25|\n",
        "|    912|   Casablanca (1942)|              4.24|\n",
        "|  58559|Dark Knight, The ...| 4.238255033557047|\n",
        "|     50|Usual Suspects, T...| 4.237745098039215|\n",
        "|   1197|Princess Bride, T...| 4.232394366197183|\n",
        "|    260|Star Wars: Episod...| 4.231075697211155|\n",
        "|    527|Schindler's List ...|             4.225|\n",
        "|   1208|Apocalypse Now (1...| 4.219626168224299|\n",
        "|   2329|American History ...| 4.217054263565892|\n",
        "|   1196|Star Wars: Episod...|4.2156398104265405|\n",
        "|   1252|    Chinatown (1974)| 4.211864406779661|\n",
        "|   1198|Raiders of the Lo...|            4.2075|\n",
        "+-------+--------------------+------------------+\n",
        "only showing top 20 rows\n",
        "</pre>"
      ]
    },
    {
      "cell_type": "code",
      "execution_count": null,
      "metadata": {
        "colab": {
          "base_uri": "https://localhost:8080/"
        },
        "id": "OgeQy1isVOWv",
        "outputId": "7c932fea-a6a4-41e2-8e25-522074e81b22"
      },
      "outputs": [
        {
          "name": "stdout",
          "output_type": "stream",
          "text": [
            "+-------+--------------------+--------------------+\n",
            "|movieId|               title|              genres|\n",
            "+-------+--------------------+--------------------+\n",
            "|      1|    Toy Story (1995)|Adventure|Animati...|\n",
            "|      2|      Jumanji (1995)|Adventure|Childre...|\n",
            "|      3|Grumpier Old Men ...|      Comedy|Romance|\n",
            "|      4|Waiting to Exhale...|Comedy|Drama|Romance|\n",
            "|      5|Father of the Bri...|              Comedy|\n",
            "|      6|         Heat (1995)|Action|Crime|Thri...|\n",
            "|      7|      Sabrina (1995)|      Comedy|Romance|\n",
            "|      8| Tom and Huck (1995)|  Adventure|Children|\n",
            "|      9| Sudden Death (1995)|              Action|\n",
            "|     10|    GoldenEye (1995)|Action|Adventure|...|\n",
            "|     11|American Presiden...|Comedy|Drama|Romance|\n",
            "|     12|Dracula: Dead and...|       Comedy|Horror|\n",
            "|     13|        Balto (1995)|Adventure|Animati...|\n",
            "|     14|        Nixon (1995)|               Drama|\n",
            "|     15|Cutthroat Island ...|Action|Adventure|...|\n",
            "|     16|       Casino (1995)|         Crime|Drama|\n",
            "|     17|Sense and Sensibi...|       Drama|Romance|\n",
            "|     18|   Four Rooms (1995)|              Comedy|\n",
            "|     19|Ace Ventura: When...|              Comedy|\n",
            "|     20|  Money Train (1995)|Action|Comedy|Cri...|\n",
            "+-------+--------------------+--------------------+\n",
            "only showing top 20 rows\n",
            "\n"
          ]
        }
      ],
      "source": [
        "movies.show()"
      ]
    },
    {
      "cell_type": "code",
      "execution_count": null,
      "metadata": {
        "colab": {
          "base_uri": "https://localhost:8080/"
        },
        "id": "TF86JmYL6j7O",
        "outputId": "d8bcc306-576c-4fc2-affc-376b7e524105"
      },
      "outputs": [
        {
          "data": {
            "text/plain": [
              "[('1', 'Adventure|Animation|Children|Comedy|Fantasy'),\n",
              " ('2', 'Adventure|Children|Fantasy'),\n",
              " ('3', 'Comedy|Romance'),\n",
              " ('4', 'Comedy|Drama|Romance'),\n",
              " ('5', 'Comedy'),\n",
              " ('6', 'Action|Crime|Thriller'),\n",
              " ('7', 'Comedy|Romance'),\n",
              " ('8', 'Adventure|Children'),\n",
              " ('9', 'Action'),\n",
              " ('10', 'Action|Adventure|Thriller'),\n",
              " ('11', 'Comedy|Drama|Romance'),\n",
              " ('12', 'Comedy|Horror'),\n",
              " ('13', 'Adventure|Animation|Children'),\n",
              " ('14', 'Drama'),\n",
              " ('15', 'Action|Adventure|Romance'),\n",
              " ('16', 'Crime|Drama'),\n",
              " ('17', 'Drama|Romance'),\n",
              " ('18', 'Comedy'),\n",
              " ('19', 'Comedy'),\n",
              " ('20', 'Action|Comedy|Crime|Drama|Thriller')]"
            ]
          },
          "execution_count": 15,
          "metadata": {},
          "output_type": "execute_result"
        }
      ],
      "source": [
        "# Here we want to extract the genres from the movies table.\n",
        "# This can be done easily using the underlying RDD of the movies dataframe.\n",
        "\n",
        "rdd_movies = movies.rdd\n",
        "movie_genre = rdd_movies.map(lambda line: (line[0],line[2]))\n",
        "movie_genre.take(20)"
      ]
    },
    {
      "cell_type": "markdown",
      "metadata": {
        "id": "bOtvaD0YZJpw"
      },
      "source": [
        "Expected result (showing 20 elements only):\n",
        "\n",
        "<pre>\n",
        "[('1', 'Adventure|Animation|Children|Comedy|Fantasy'),\n",
        " ('2', 'Adventure|Children|Fantasy'),\n",
        " ('3', 'Comedy|Romance'),\n",
        " ('4', 'Comedy|Drama|Romance'),\n",
        " ('5', 'Comedy'),\n",
        " ('6', 'Action|Crime|Thriller'),\n",
        " ('7', 'Comedy|Romance'),\n",
        " ('8', 'Adventure|Children'),\n",
        " ('9', 'Action'),\n",
        " ('10', 'Action|Adventure|Thriller'),\n",
        " ('11', 'Comedy|Drama|Romance'),\n",
        " ('12', 'Comedy|Horror'),\n",
        " ('13', 'Adventure|Animation|Children'),\n",
        " ('14', 'Drama'),\n",
        " ('15', 'Action|Adventure|Romance'),\n",
        " ('16', 'Crime|Drama'),\n",
        " ('17', 'Drama|Romance'),\n",
        " ('18', 'Comedy'),\n",
        " ('19', 'Comedy'),\n",
        " ('20', 'Action|Comedy|Crime|Drama|Thriller')]\n",
        "</pre>"
      ]
    },
    {
      "cell_type": "code",
      "execution_count": null,
      "metadata": {
        "colab": {
          "base_uri": "https://localhost:8080/"
        },
        "id": "ao9Hd6-kPsrO",
        "outputId": "3c81604b-bbdc-4b03-c895-db33900efc8d"
      },
      "outputs": [
        {
          "data": {
            "text/plain": [
              "[('1', 'Adventure'),\n",
              " ('1', 'Animation'),\n",
              " ('1', 'Children'),\n",
              " ('1', 'Comedy'),\n",
              " ('1', 'Fantasy'),\n",
              " ('2', 'Adventure'),\n",
              " ('2', 'Children'),\n",
              " ('2', 'Fantasy'),\n",
              " ('3', 'Comedy'),\n",
              " ('3', 'Romance'),\n",
              " ('4', 'Comedy'),\n",
              " ('4', 'Drama'),\n",
              " ('4', 'Romance'),\n",
              " ('5', 'Comedy'),\n",
              " ('6', 'Action'),\n",
              " ('6', 'Crime'),\n",
              " ('6', 'Thriller'),\n",
              " ('7', 'Comedy'),\n",
              " ('7', 'Romance'),\n",
              " ('8', 'Adventure')]"
            ]
          },
          "execution_count": 16,
          "metadata": {},
          "output_type": "execute_result"
        }
      ],
      "source": [
        "# Now we want to create a flattened out RDD of (movieId, genre) pairs.\n",
        "# Use flatMapValues on the previous RDD.\n",
        "# Call the result RDD: moviegenres_flat_rdd\n",
        "\n",
        "moviegenres_flat_rdd = rdd_movies.map(lambda line: (line[0],line[2].split('|'))).flatMapValues(lambda x:x)\n",
        "moviegenres_flat_rdd.take(20)"
      ]
    },
    {
      "cell_type": "markdown",
      "metadata": {
        "id": "JmfAzacHZh6n"
      },
      "source": [
        "Expected result (showing 20 elements only):\n",
        "\n",
        "<pre>\n",
        "[('1', 'Adventure'),\n",
        " ('1', 'Animation'),\n",
        " ('1', 'Children'),\n",
        " ('1', 'Comedy'),\n",
        " ('1', 'Fantasy'),\n",
        " ('2', 'Adventure'),\n",
        " ('2', 'Children'),\n",
        " ('2', 'Fantasy'),\n",
        " ('3', 'Comedy'),\n",
        " ('3', 'Romance'),\n",
        " ('4', 'Comedy'),\n",
        " ('4', 'Drama'),\n",
        " ('4', 'Romance'),\n",
        " ('5', 'Comedy'),\n",
        " ('6', 'Action'),\n",
        " ('6', 'Crime'),\n",
        " ('6', 'Thriller'),\n",
        " ('7', 'Comedy'),\n",
        " ('7', 'Romance'),\n",
        " ('8', 'Adventure')]\n",
        "</pre>"
      ]
    },
    {
      "cell_type": "code",
      "execution_count": null,
      "metadata": {
        "colab": {
          "base_uri": "https://localhost:8080/"
        },
        "id": "BphvUZxZRdCY",
        "outputId": "362af43f-445e-4cda-e2c1-8f5c4fbd6f81"
      },
      "outputs": [
        {
          "name": "stdout",
          "output_type": "stream",
          "text": [
            "+-------+---------+\n",
            "|movieId|    genre|\n",
            "+-------+---------+\n",
            "|      1|Adventure|\n",
            "|      1|Animation|\n",
            "|      1| Children|\n",
            "|      1|   Comedy|\n",
            "|      1|  Fantasy|\n",
            "|      2|Adventure|\n",
            "|      2| Children|\n",
            "|      2|  Fantasy|\n",
            "|      3|   Comedy|\n",
            "|      3|  Romance|\n",
            "|      4|   Comedy|\n",
            "|      4|    Drama|\n",
            "|      4|  Romance|\n",
            "|      5|   Comedy|\n",
            "|      6|   Action|\n",
            "|      6|    Crime|\n",
            "|      6| Thriller|\n",
            "|      7|   Comedy|\n",
            "|      7|  Romance|\n",
            "|      8|Adventure|\n",
            "+-------+---------+\n",
            "only showing top 20 rows\n",
            "\n"
          ]
        },
        {
          "name": "stderr",
          "output_type": "stream",
          "text": [
            "/content/spark-3.3.2-bin-hadoop2/python/pyspark/sql/dataframe.py:229: FutureWarning: Deprecated in 2.0, use createOrReplaceTempView instead.\n",
            "  warnings.warn(\"Deprecated in 2.0, use createOrReplaceTempView instead.\", FutureWarning)\n"
          ]
        }
      ],
      "source": [
        "# Now convert the last RDD into a dataframe for further analytics.\n",
        "moviegenres = spark.createDataFrame(moviegenres_flat_rdd).toDF(\"movieId\", \"genre\")\n",
        "moviegenres.show()\n",
        "\n",
        "# # Register dataframe as a table.\n",
        "moviegenres.registerTempTable('moviegenres')"
      ]
    },
    {
      "cell_type": "markdown",
      "metadata": {
        "id": "BvdV8S47aXGM"
      },
      "source": [
        "Expected result:\n",
        "\n",
        "<pre>\n",
        "+-------+---------+\n",
        "|movieId|    genre|\n",
        "+-------+---------+\n",
        "|      1|Adventure|\n",
        "|      1|Animation|\n",
        "|      1| Children|\n",
        "|      1|   Comedy|\n",
        "|      1|  Fantasy|\n",
        "|      2|Adventure|\n",
        "|      2| Children|\n",
        "|      2|  Fantasy|\n",
        "|      3|   Comedy|\n",
        "|      3|  Romance|\n",
        "|      4|   Comedy|\n",
        "|      4|    Drama|\n",
        "|      4|  Romance|\n",
        "|      5|   Comedy|\n",
        "|      6|   Action|\n",
        "|      6|    Crime|\n",
        "|      6| Thriller|\n",
        "|      7|   Comedy|\n",
        "|      7|  Romance|\n",
        "|      8|Adventure|\n",
        "+-------+---------+\n",
        "only showing top 20 rows\n",
        "</pre>"
      ]
    },
    {
      "cell_type": "code",
      "execution_count": null,
      "metadata": {
        "colab": {
          "base_uri": "https://localhost:8080/"
        },
        "id": "_FSzR6fNSMLq",
        "outputId": "3770e97e-c00d-4c76-cd85-d935cd830606"
      },
      "outputs": [
        {
          "name": "stdout",
          "output_type": "stream",
          "text": [
            "+-----------+------------------+\n",
            "|      genre|         avgrating|\n",
            "+-----------+------------------+\n",
            "|  Film-Noir| 3.920114942528736|\n",
            "|        War|   3.8082938876312|\n",
            "|Documentary| 3.797785069729286|\n",
            "|      Crime| 3.658293867274144|\n",
            "|      Drama|3.6561844113718758|\n",
            "|    Mystery| 3.632460255407871|\n",
            "|  Animation|3.6299370349170004|\n",
            "|       IMAX| 3.618335343787696|\n",
            "|    Western| 3.583937823834197|\n",
            "|    Musical|3.5636781053649105|\n",
            "|  Adventure|3.5086089151939075|\n",
            "|    Romance|3.5065107040388437|\n",
            "|   Thriller|3.4937055799183425|\n",
            "|    Fantasy|3.4910005070136894|\n",
            "|     Sci-Fi| 3.455721162210752|\n",
            "|     Action| 3.447984331646809|\n",
            "|   Children| 3.412956125108601|\n",
            "|     Comedy|3.3847207640898267|\n",
            "|     Horror| 3.258195034974626|\n",
            "+-----------+------------------+\n",
            "\n"
          ]
        }
      ],
      "source": [
        "# Use SQL\n",
        "# Find the average rating for each genre that has at least 50 ratings.\n",
        "# Order descending by average rating.\n",
        "\n",
        "result = spark.sql(\"select genre, avg(rating) as avgrating\" +\n",
        "\" from ratings_table r join moviegenres mg on r.movieId == mg.movieId group by genre\" +\n",
        " \" having count(rating)>=50 order by avgrating DESC\")\n",
        "\n",
        "result.show()"
      ]
    },
    {
      "cell_type": "markdown",
      "metadata": {
        "id": "q4GTUNAReOcn"
      },
      "source": [
        "Expected result:\n",
        "\n",
        "<pre>\n",
        "+-----------+------------------+\n",
        "|      genre|         avgrating|\n",
        "+-----------+------------------+\n",
        "|  Film-Noir| 3.920114942528736|\n",
        "|        War|   3.8082938876312|\n",
        "|Documentary| 3.797785069729286|\n",
        "|      Crime| 3.658293867274144|\n",
        "|      Drama|3.6561844113718758|\n",
        "|    Mystery| 3.632460255407871|\n",
        "|  Animation|3.6299370349170004|\n",
        "|       IMAX| 3.618335343787696|\n",
        "|    Western| 3.583937823834197|\n",
        "|    Musical|3.5636781053649105|\n",
        "|  Adventure|3.5086089151939075|\n",
        "|    Romance|3.5065107040388437|\n",
        "|   Thriller|3.4937055799183425|\n",
        "|    Fantasy|3.4910005070136894|\n",
        "|     Sci-Fi| 3.455721162210752|\n",
        "|     Action| 3.447984331646809|\n",
        "|   Children| 3.412956125108601|\n",
        "|     Comedy|3.3847207640898267|\n",
        "|     Horror| 3.258195034974626|\n",
        "+-----------+------------------+\n",
        "</pre>"
      ]
    },
    {
      "cell_type": "markdown",
      "metadata": {
        "id": "5wQNXQnOSaga"
      },
      "source": [
        "The Dataframe is small enough to be moved to Pandas:"
      ]
    },
    {
      "cell_type": "code",
      "execution_count": null,
      "metadata": {
        "colab": {
          "base_uri": "https://localhost:8080/",
          "height": 206
        },
        "id": "4nVJdPLDSagb",
        "outputId": "2d17d5d9-10bc-4f34-ae6a-9f025944fcb1"
      },
      "outputs": [
        {
          "data": {
            "text/html": [
              "\n",
              "  <div id=\"df-cf5ffb45-8746-4cbe-8896-0a391f792ce0\">\n",
              "    <div class=\"colab-df-container\">\n",
              "      <div>\n",
              "<style scoped>\n",
              "    .dataframe tbody tr th:only-of-type {\n",
              "        vertical-align: middle;\n",
              "    }\n",
              "\n",
              "    .dataframe tbody tr th {\n",
              "        vertical-align: top;\n",
              "    }\n",
              "\n",
              "    .dataframe thead th {\n",
              "        text-align: right;\n",
              "    }\n",
              "</style>\n",
              "<table border=\"1\" class=\"dataframe\">\n",
              "  <thead>\n",
              "    <tr style=\"text-align: right;\">\n",
              "      <th></th>\n",
              "      <th>genre</th>\n",
              "      <th>avgrating</th>\n",
              "    </tr>\n",
              "  </thead>\n",
              "  <tbody>\n",
              "    <tr>\n",
              "      <th>0</th>\n",
              "      <td>Film-Noir</td>\n",
              "      <td>3.920115</td>\n",
              "    </tr>\n",
              "    <tr>\n",
              "      <th>1</th>\n",
              "      <td>War</td>\n",
              "      <td>3.808294</td>\n",
              "    </tr>\n",
              "    <tr>\n",
              "      <th>2</th>\n",
              "      <td>Documentary</td>\n",
              "      <td>3.797785</td>\n",
              "    </tr>\n",
              "    <tr>\n",
              "      <th>3</th>\n",
              "      <td>Crime</td>\n",
              "      <td>3.658294</td>\n",
              "    </tr>\n",
              "    <tr>\n",
              "      <th>4</th>\n",
              "      <td>Drama</td>\n",
              "      <td>3.656184</td>\n",
              "    </tr>\n",
              "  </tbody>\n",
              "</table>\n",
              "</div>\n",
              "      <button class=\"colab-df-convert\" onclick=\"convertToInteractive('df-cf5ffb45-8746-4cbe-8896-0a391f792ce0')\"\n",
              "              title=\"Convert this dataframe to an interactive table.\"\n",
              "              style=\"display:none;\">\n",
              "        \n",
              "  <svg xmlns=\"http://www.w3.org/2000/svg\" height=\"24px\"viewBox=\"0 0 24 24\"\n",
              "       width=\"24px\">\n",
              "    <path d=\"M0 0h24v24H0V0z\" fill=\"none\"/>\n",
              "    <path d=\"M18.56 5.44l.94 2.06.94-2.06 2.06-.94-2.06-.94-.94-2.06-.94 2.06-2.06.94zm-11 1L8.5 8.5l.94-2.06 2.06-.94-2.06-.94L8.5 2.5l-.94 2.06-2.06.94zm10 10l.94 2.06.94-2.06 2.06-.94-2.06-.94-.94-2.06-.94 2.06-2.06.94z\"/><path d=\"M17.41 7.96l-1.37-1.37c-.4-.4-.92-.59-1.43-.59-.52 0-1.04.2-1.43.59L10.3 9.45l-7.72 7.72c-.78.78-.78 2.05 0 2.83L4 21.41c.39.39.9.59 1.41.59.51 0 1.02-.2 1.41-.59l7.78-7.78 2.81-2.81c.8-.78.8-2.07 0-2.86zM5.41 20L4 18.59l7.72-7.72 1.47 1.35L5.41 20z\"/>\n",
              "  </svg>\n",
              "      </button>\n",
              "      \n",
              "  <style>\n",
              "    .colab-df-container {\n",
              "      display:flex;\n",
              "      flex-wrap:wrap;\n",
              "      gap: 12px;\n",
              "    }\n",
              "\n",
              "    .colab-df-convert {\n",
              "      background-color: #E8F0FE;\n",
              "      border: none;\n",
              "      border-radius: 50%;\n",
              "      cursor: pointer;\n",
              "      display: none;\n",
              "      fill: #1967D2;\n",
              "      height: 32px;\n",
              "      padding: 0 0 0 0;\n",
              "      width: 32px;\n",
              "    }\n",
              "\n",
              "    .colab-df-convert:hover {\n",
              "      background-color: #E2EBFA;\n",
              "      box-shadow: 0px 1px 2px rgba(60, 64, 67, 0.3), 0px 1px 3px 1px rgba(60, 64, 67, 0.15);\n",
              "      fill: #174EA6;\n",
              "    }\n",
              "\n",
              "    [theme=dark] .colab-df-convert {\n",
              "      background-color: #3B4455;\n",
              "      fill: #D2E3FC;\n",
              "    }\n",
              "\n",
              "    [theme=dark] .colab-df-convert:hover {\n",
              "      background-color: #434B5C;\n",
              "      box-shadow: 0px 1px 3px 1px rgba(0, 0, 0, 0.15);\n",
              "      filter: drop-shadow(0px 1px 2px rgba(0, 0, 0, 0.3));\n",
              "      fill: #FFFFFF;\n",
              "    }\n",
              "  </style>\n",
              "\n",
              "      <script>\n",
              "        const buttonEl =\n",
              "          document.querySelector('#df-cf5ffb45-8746-4cbe-8896-0a391f792ce0 button.colab-df-convert');\n",
              "        buttonEl.style.display =\n",
              "          google.colab.kernel.accessAllowed ? 'block' : 'none';\n",
              "\n",
              "        async function convertToInteractive(key) {\n",
              "          const element = document.querySelector('#df-cf5ffb45-8746-4cbe-8896-0a391f792ce0');\n",
              "          const dataTable =\n",
              "            await google.colab.kernel.invokeFunction('convertToInteractive',\n",
              "                                                     [key], {});\n",
              "          if (!dataTable) return;\n",
              "\n",
              "          const docLinkHtml = 'Like what you see? Visit the ' +\n",
              "            '<a target=\"_blank\" href=https://colab.research.google.com/notebooks/data_table.ipynb>data table notebook</a>'\n",
              "            + ' to learn more about interactive tables.';\n",
              "          element.innerHTML = '';\n",
              "          dataTable['output_type'] = 'display_data';\n",
              "          await google.colab.output.renderOutput(dataTable, element);\n",
              "          const docLink = document.createElement('div');\n",
              "          docLink.innerHTML = docLinkHtml;\n",
              "          element.appendChild(docLink);\n",
              "        }\n",
              "      </script>\n",
              "    </div>\n",
              "  </div>\n",
              "  "
            ],
            "text/plain": [
              "         genre  avgrating\n",
              "0    Film-Noir   3.920115\n",
              "1          War   3.808294\n",
              "2  Documentary   3.797785\n",
              "3        Crime   3.658294\n",
              "4        Drama   3.656184"
            ]
          },
          "execution_count": 19,
          "metadata": {},
          "output_type": "execute_result"
        }
      ],
      "source": [
        "result_pd = result.toPandas()\n",
        "result_pd.head()"
      ]
    },
    {
      "cell_type": "markdown",
      "metadata": {
        "id": "VQedtuQZSagc"
      },
      "source": [
        "Let's plot a barchart:"
      ]
    },
    {
      "cell_type": "code",
      "execution_count": null,
      "metadata": {
        "colab": {
          "base_uri": "https://localhost:8080/",
          "height": 547
        },
        "id": "tgbceprDSagd",
        "outputId": "56203b9b-fcfc-4adf-c9a6-3de4f08ac123"
      },
      "outputs": [
        {
          "data": {
            "text/plain": [
              "<Axes: xlabel='genre'>"
            ]
          },
          "execution_count": 20,
          "metadata": {},
          "output_type": "execute_result"
        },
        {
          "data": {
            "image/png": "[encoded data removed]",
            "text/plain": [
              "<Figure size 640x480 with 1 Axes>"
            ]
          },
          "metadata": {},
          "output_type": "display_data"
        }
      ],
      "source": [
        "result_pd.plot(kind=\"bar\", x=\"genre\", y=\"avgrating\")"
      ]
    }
  ],
  "metadata": {
    "colab": {
      "machine_shape": "hm",
      "provenance": []
    },
    "kernelspec": {
      "display_name": "Python 3",
      "language": "python",
      "name": "python3"
    },
    "language_info": {
      "codemirror_mode": {
        "name": "ipython",
        "version": 3
      },
      "file_extension": ".py",
      "mimetype": "text/x-python",
      "name": "python",
      "nbconvert_exporter": "python",
      "pygments_lexer": "ipython3",
      "version": "3.7.3"
    }
  },
  "nbformat": 4,
  "nbformat_minor": 0
}
